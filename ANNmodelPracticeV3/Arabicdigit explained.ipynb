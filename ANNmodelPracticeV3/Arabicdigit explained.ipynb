{
 "cells": [
  {
   "cell_type": "code",
   "execution_count": 1,
   "id": "initial_id",
   "metadata": {
    "collapsed": true,
    "ExecuteTime": {
     "end_time": "2023-12-19T04:39:54.442090900Z",
     "start_time": "2023-12-19T04:39:46.634981500Z"
    }
   },
   "outputs": [],
   "source": [
    "import pandas as pd\n",
    "import numpy as np\n",
    "import matplotlib.pyplot as plt\n",
    "import matplotlib.image as mpimg\n",
    "import seaborn as sns\n",
    "%matplotlib inline\n",
    "\n",
    "np.random.seed(2)\n",
    "\n",
    "from sklearn.model_selection import train_test_split\n",
    "from sklearn.metrics import confusion_matrix\n",
    "import itertools\n",
    "\n",
    "from keras.utils.np_utils import to_categorical # convert to one-hot-encoding\n",
    "from keras.models import Sequential\n",
    "from keras.layers import Dense, Dropout, Flatten, Conv2D, MaxPool2D\n",
    "from keras.optimizers import RMSprop\n",
    "from keras.preprocessing.image import ImageDataGenerator\n",
    "from keras.callbacks import ReduceLROnPlateau\n",
    "\n"
   ]
  },
  {
   "cell_type": "markdown",
   "source": [
    "Import Libraries: \n",
    "These lines import the required libraries for data manipulation (pandas),\n",
    "data splitting (train_test_split),\n",
    "deep learning (tensorflow),\n",
    "optimization and learning rate reduction (RMSprop and ReduceLROnPlateau), \n",
    "and image data preprocessing (ImageDataGenerator, to_categorical).\n"
   ],
   "metadata": {
    "collapsed": false
   },
   "id": "b47be49718931f6b"
  },
  {
   "cell_type": "code",
   "execution_count": 2,
   "outputs": [],
   "source": [
    "# Load training and testing data\n",
    "Y_train = pd.read_csv('input/Arabic Handwritten Digits Dataset CSV/csvTrainLabel 60k x 1.csv')\n",
    "X_train = pd.read_csv('input/csvTrainImages 60k x 784.csv')\n",
    "y_test = pd.read_csv('input/Arabic Handwritten Digits Dataset CSV/csvTestLabel 10k x 1.csv')\n",
    "test = pd.read_csv('input/csvTestImages 10k x 784.csv')\n"
   ],
   "metadata": {
    "collapsed": false,
    "ExecuteTime": {
     "end_time": "2023-12-19T04:40:03.732326Z",
     "start_time": "2023-12-19T04:39:58.345634100Z"
    }
   },
   "id": "2f5bcd0e15045b7"
  },
  {
   "cell_type": "markdown",
   "source": [
    "Load Data: These lines load your training and testing data (labels and images) from CSV files using pandas."
   ],
   "metadata": {
    "collapsed": false
   },
   "id": "102fba5b666d00dc"
  },
  {
   "cell_type": "code",
   "execution_count": 3,
   "outputs": [
    {
     "data": {
      "text/plain": "0\n1    6000\n2    6000\n3    6000\n4    6000\n5    6000\n6    6000\n7    6000\n8    6000\n9    6000\n0    5999\nName: count, dtype: int64"
     },
     "execution_count": 3,
     "metadata": {},
     "output_type": "execute_result"
    },
    {
     "data": {
      "text/plain": "<Figure size 640x480 with 1 Axes>",
      "image/png": "[encoded data removed]"
     },
     "metadata": {},
     "output_type": "display_data"
    }
   ],
   "source": [
    "g=sns.countplot(Y_train.iloc[:,0])\n",
    "Y_train=Y_train.iloc[:,0]\n",
    "Y_train.value_counts()"
   ],
   "metadata": {
    "collapsed": false,
    "ExecuteTime": {
     "end_time": "2023-12-19T04:40:06.277504Z",
     "start_time": "2023-12-19T04:40:05.969691300Z"
    }
   },
   "id": "87ca8b58fe9cff1b"
  },
  {
   "cell_type": "code",
   "execution_count": 4,
   "outputs": [
    {
     "data": {
      "text/plain": "count       784\nunique        1\ntop       False\nfreq        784\ndtype: object"
     },
     "execution_count": 4,
     "metadata": {},
     "output_type": "execute_result"
    }
   ],
   "source": [
    "X_train.isnull().any().describe()"
   ],
   "metadata": {
    "collapsed": false,
    "ExecuteTime": {
     "end_time": "2023-12-19T04:40:16.225963100Z",
     "start_time": "2023-12-19T04:40:16.180992200Z"
    }
   },
   "id": "c656bdb37e09eda"
  },
  {
   "cell_type": "code",
   "execution_count": 5,
   "outputs": [
    {
     "data": {
      "text/plain": "count       784\nunique        1\ntop       False\nfreq        784\ndtype: object"
     },
     "execution_count": 5,
     "metadata": {},
     "output_type": "execute_result"
    }
   ],
   "source": [
    "test.isnull().any().describe()\n"
   ],
   "metadata": {
    "collapsed": false,
    "ExecuteTime": {
     "end_time": "2023-12-19T04:40:45.368466300Z",
     "start_time": "2023-12-19T04:40:45.347479600Z"
    }
   },
   "id": "1a436814f3c706de"
  },
  {
   "cell_type": "markdown",
   "source": [
    "2.3. Normalization\n",
    "In order to eliminate the effect of the colors and illumination all the data will be normalized to 0-1"
   ],
   "metadata": {
    "collapsed": false
   },
   "id": "633087f9942ec2d4"
  },
  {
   "cell_type": "code",
   "execution_count": null,
   "outputs": [],
   "source": [
    "# Normalize and reshape the input data\n",
    "X_train=X_train/255.0\n",
    "test=test/255.0"
   ],
   "metadata": {
    "collapsed": false
   },
   "id": "d6249a6f84afa25"
  },
  {
   "cell_type": "markdown",
   "source": [
    "Data Normalization : Normalize and reshape the image data to ensure values are between 0 and 1 and have the correct shape."
   ],
   "metadata": {
    "collapsed": false
   },
   "id": "47b1c3780d9e3a1e"
  },
  {
   "cell_type": "markdown",
   "source": [
    "# 2.4. Reshaping\n",
    "# The current dimension of the X_train variable is 784 columns and one row. \n",
    "# We will reshape the data to be in a square format (28 x 28 x 1 canal)"
   ],
   "metadata": {
    "collapsed": false
   },
   "id": "941726be285d9177"
  },
  {
   "cell_type": "code",
   "execution_count": null,
   "outputs": [],
   "source": [
    "X_train=X_train.values.reshape(-1, 28,28,1)\n",
    "test=test.values.reshape(-1, 28, 28, 1)"
   ],
   "metadata": {
    "collapsed": false
   },
   "id": "7cb1c942454de952"
  },
  {
   "cell_type": "markdown",
   "source": [
    "# 2.5. Label encoding\n",
    "# In this step we will turn the 0-9 labels into a binary like coding, i.e. 2 <- [0,0,1,0,0,0,0,0,0] and so on."
   ],
   "metadata": {
    "collapsed": false
   },
   "id": "8cba1222d2852c37"
  },
  {
   "cell_type": "code",
   "execution_count": null,
   "outputs": [],
   "source": [
    "# One-hot encode the training labels\n",
    "y_train = to_categorical(y_train, num_classes=10)\n"
   ],
   "metadata": {
    "collapsed": false
   },
   "id": "a381d156a38ff3df"
  },
  {
   "cell_type": "markdown",
   "source": [
    "One-hot Encode Labels: Convert the categorical labels into a one-hot encoded format using to_categorical."
   ],
   "metadata": {
    "collapsed": false
   },
   "id": "541dc1023a1c857b"
  },
  {
   "cell_type": "code",
   "execution_count": null,
   "outputs": [],
   "source": [
    "# Split the training data into training and validation sets\n",
    "X_train, X_valid, y_train, y_valid = train_test_split(X_train, y_train, test_size=0.1, shuffle=True)\n"
   ],
   "metadata": {
    "collapsed": false
   },
   "id": "81239311515c51a6"
  },
  {
   "cell_type": "markdown",
   "source": [
    "Split Data: Split the training data into training and validation sets using train_test_split.\n"
   ],
   "metadata": {
    "collapsed": false
   },
   "id": "a61505885f4dc78c"
  },
  {
   "cell_type": "code",
   "execution_count": null,
   "outputs": [],
   "source": [
    "# Data Augmentation to reduce bias\n",
    "datagen = ImageDataGenerator(\n",
    "    featurewise_center=False,\n",
    "    samplewise_center=False,\n",
    "    featurewise_std_normalization=False,\n",
    "    samplewise_std_normalization=False,\n",
    "    zca_whitening=False,\n",
    "    zoom_range=0.1,\n",
    "    width_shift_range=0.1,\n",
    "    height_shift_range=0.1,\n",
    "    horizontal_flip=False,\n",
    "    vertical_flip=False\n",
    ")\n",
    "\n",
    "datagen.fit(X_train)\n"
   ],
   "metadata": {
    "collapsed": false
   },
   "id": "c79aacdff6b3cccb"
  },
  {
   "cell_type": "markdown",
   "source": [
    "Data Augmentation: Use ImageDataGenerator for data augmentation to reduce bias in the model."
   ],
   "metadata": {
    "collapsed": false
   },
   "id": "fb13810601ee45c"
  },
  {
   "cell_type": "code",
   "execution_count": null,
   "outputs": [],
   "source": [
    "# Early Stopping\n",
    "class custom_callback(tf.keras.callbacks.Callback):\n",
    "    def on_epoch_end(self, epoch, logs={}):\n",
    "        if(logs.get('accuracy') > 0.92):\n",
    "            self.model.stop_training = True\n"
   ],
   "metadata": {
    "collapsed": false
   },
   "id": "bcdecc25b19436f9"
  },
  {
   "cell_type": "markdown",
   "source": [
    "Early Stopping Callback: Define a custom callback for early stopping if the accuracy reaches a certain threshold."
   ],
   "metadata": {
    "collapsed": false
   },
   "id": "9fce1d89e13b382c"
  },
  {
   "cell_type": "code",
   "execution_count": null,
   "outputs": [],
   "source": [
    "# Learning Rate Scheduler\n",
    "learning_rate_reduction = ReduceLROnPlateau(monitor='val_accuracy', \n",
    "                                            patience=3, \n",
    "                                            verbose=1, \n",
    "                                            factor=0.5, \n",
    "                                            min_lr=0.00001)\n"
   ],
   "metadata": {
    "collapsed": false
   },
   "id": "cd223ab912125948"
  },
  {
   "cell_type": "markdown",
   "source": [
    "Learning Rate Scheduler: Implement a learning rate reduction strategy during training."
   ],
   "metadata": {
    "collapsed": false
   },
   "id": "ca7603d749e02c8e"
  },
  {
   "cell_type": "code",
   "execution_count": null,
   "outputs": [],
   "source": [
    "# Build the neural network model\n",
    "def build_model():\n",
    "    model = Sequential()\n",
    "    model.add(Flatten(input_shape=(28, 28, 1)))\n",
    "    model.add(Dense(256, activation='relu'))\n",
    "    model.add(Dropout(0.4))\n",
    "    model.add(Dense(128, activation='relu'))  \n",
    "    model.add(Dropout(0.4))\n",
    "    model.add(Dense(10, activation='softmax'))  \n",
    "    return model\n"
   ],
   "metadata": {
    "collapsed": false
   },
   "id": "f1047a079355d76"
  },
  {
   "cell_type": "markdown",
   "source": [
    "Build Model: Define the architecture of the neural network using Sequential from Keras.\n"
   ],
   "metadata": {
    "collapsed": false
   },
   "id": "20bf108ae84d0ad8"
  },
  {
   "cell_type": "code",
   "execution_count": null,
   "outputs": [],
   "source": [
    "# Define the optimizer\n",
    "optimizer = RMSprop(learning_rate=0.001, rho=0.9, epsilon=1e-08, decay=0.0)\n",
    "# Compile the model\n",
    "model = build_model()\n",
    "model.compile(optimizer=optimizer, loss=\"categorical_crossentropy\", metrics=[\"accuracy\"])\n"
   ],
   "metadata": {
    "collapsed": false
   },
   "id": "a1013df1670cf429"
  },
  {
   "cell_type": "markdown",
   "source": [
    "Compile Model: Set up the model for training by specifying the optimizer, loss function, and evaluation metric."
   ],
   "metadata": {
    "collapsed": false
   },
   "id": "76c222a2d3ce673"
  },
  {
   "cell_type": "code",
   "execution_count": null,
   "outputs": [],
   "source": [
    "# Train the model\n",
    "epochs = 10\n",
    "batch_size = 64\n",
    "history = model.fit(datagen.flow(X_train, y_train, batch_size=batch_size),\n",
    "                    epochs=epochs,\n",
    "                    validation_data=(X_valid, y_valid),\n",
    "                    verbose=2,\n",
    "                    callbacks=[learning_rate_reduction])\n"
   ],
   "metadata": {
    "collapsed": false
   },
   "id": "bc1537348e33e299"
  },
  {
   "cell_type": "markdown",
   "source": [
    "Train Model: Train the model using the training data, validation data, and the specified callbacks."
   ],
   "metadata": {
    "collapsed": false
   },
   "id": "f18c4b2b0c258126"
  },
  {
   "cell_type": "code",
   "execution_count": null,
   "outputs": [],
   "source": [
    "# Save the trained model\n",
    "model.save(\"ANNAdigits.h5\")"
   ],
   "metadata": {
    "collapsed": false
   },
   "id": "a56ffc92758837a9"
  },
  {
   "cell_type": "markdown",
   "source": [
    "Save Model: Save the trained model for later use.\n"
   ],
   "metadata": {
    "collapsed": false
   },
   "id": "6cc7549a5ed6d2c0"
  },
  {
   "cell_type": "code",
   "execution_count": null,
   "outputs": [],
   "source": [
    "# Plot training history\n",
    "from matplotlib import pyplot as plt\n",
    "\n",
    "# Plot accuracy and loss curves\n",
    "f = plt.figure(figsize=(20, 7))\n",
    "f.add_subplot(121)\n",
    "plt.plot(history.epoch, history.history['accuracy'], label=\"accuracy\")\n",
    "plt.plot(history.epoch, history.history['val_accuracy'], label=\"val_accuracy\")\n",
    "plt.title(\"Accuracy Curve\", fontsize=18)\n",
    "plt.xlabel(\"Epochs\", fontsize=15)\n",
    "plt.ylabel(\"Accuracy\", fontsize=15)\n",
    "plt.grid(alpha=0.3)\n",
    "plt.legend()\n",
    "\n",
    "f.add_subplot(122)\n",
    "plt.plot(history.epoch, history.history['loss'], label=\"loss\")\n",
    "plt.plot(history.epoch, history.history['val_loss'], label=\"val_loss\")\n",
    "plt.title(\"Loss Curve\", fontsize=18)\n",
    "plt.xlabel(\"Epochs\", fontsize=15)\n",
    "plt.ylabel(\"Loss\", fontsize=15)\n",
    "plt.grid(alpha=0.3)\n",
    "plt.legend()\n",
    "\n",
    "plt.show()\n"
   ],
   "metadata": {
    "collapsed": false
   },
   "id": "f725b6c8526e27b1"
  },
  {
   "cell_type": "markdown",
   "source": [
    "Plot Training History: Visualize the training and validation accuracy as well as loss over epochs."
   ],
   "metadata": {
    "collapsed": false
   },
   "id": "bec4b26ee16376af"
  }
 ],
 "metadata": {
  "kernelspec": {
   "display_name": "Python 3",
   "language": "python",
   "name": "python3"
  },
  "language_info": {
   "codemirror_mode": {
    "name": "ipython",
    "version": 2
   },
   "file_extension": ".py",
   "mimetype": "text/x-python",
   "name": "python",
   "nbconvert_exporter": "python",
   "pygments_lexer": "ipython2",
   "version": "2.7.6"
  }
 },
 "nbformat": 4,
 "nbformat_minor": 5
}
